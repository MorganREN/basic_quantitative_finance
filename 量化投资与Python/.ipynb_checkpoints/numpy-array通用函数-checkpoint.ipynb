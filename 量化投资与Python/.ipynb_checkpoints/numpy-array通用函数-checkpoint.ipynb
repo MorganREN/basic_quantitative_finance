{
 "cells": [
  {
   "cell_type": "code",
   "execution_count": 1,
   "id": "fad30d42",
   "metadata": {},
   "outputs": [],
   "source": [
    "import numpy as np"
   ]
  },
  {
   "cell_type": "code",
   "execution_count": 2,
   "id": "c97d5ae7",
   "metadata": {},
   "outputs": [
    {
     "data": {
      "text/plain": [
       "1"
      ]
     },
     "execution_count": 2,
     "metadata": {},
     "output_type": "execute_result"
    }
   ],
   "source": [
    "abs(-1)"
   ]
  },
  {
   "cell_type": "code",
   "execution_count": 3,
   "id": "c74eea32",
   "metadata": {},
   "outputs": [
    {
     "data": {
      "text/plain": [
       "array([-5, -4, -3, -2, -1,  0,  1,  2,  3,  4])"
      ]
     },
     "execution_count": 3,
     "metadata": {},
     "output_type": "execute_result"
    }
   ],
   "source": [
    "a = np.arange(-5,5)\n",
    "a"
   ]
  },
  {
   "cell_type": "code",
   "execution_count": 4,
   "id": "6971e037",
   "metadata": {},
   "outputs": [
    {
     "data": {
      "text/plain": [
       "array([5, 4, 3, 2, 1, 0, 1, 2, 3, 4])"
      ]
     },
     "execution_count": 4,
     "metadata": {},
     "output_type": "execute_result"
    }
   ],
   "source": [
    "abs(a)"
   ]
  },
  {
   "cell_type": "code",
   "execution_count": 5,
   "id": "3d5b5160",
   "metadata": {},
   "outputs": [
    {
     "data": {
      "text/plain": [
       "array([5, 4, 3, 2, 1, 0, 1, 2, 3, 4])"
      ]
     },
     "execution_count": 5,
     "metadata": {},
     "output_type": "execute_result"
    }
   ],
   "source": [
    "np.abs(a)"
   ]
  },
  {
   "cell_type": "code",
   "execution_count": 6,
   "id": "b07d7505",
   "metadata": {},
   "outputs": [],
   "source": [
    "abs?"
   ]
  },
  {
   "cell_type": "code",
   "execution_count": 9,
   "id": "740c3dfd",
   "metadata": {},
   "outputs": [
    {
     "data": {
      "text/plain": [
       "2.0"
      ]
     },
     "execution_count": 9,
     "metadata": {},
     "output_type": "execute_result"
    }
   ],
   "source": [
    "import math\n",
    "math.sqrt(4)"
   ]
  },
  {
   "cell_type": "code",
   "execution_count": 10,
   "id": "bcae9dfc",
   "metadata": {},
   "outputs": [
    {
     "ename": "TypeError",
     "evalue": "only size-1 arrays can be converted to Python scalars",
     "output_type": "error",
     "traceback": [
      "\u001b[1;31m---------------------------------------------------------------------------\u001b[0m",
      "\u001b[1;31mTypeError\u001b[0m                                 Traceback (most recent call last)",
      "\u001b[1;32m<ipython-input-10-c85d302be686>\u001b[0m in \u001b[0;36m<module>\u001b[1;34m\u001b[0m\n\u001b[1;32m----> 1\u001b[1;33m \u001b[0mmath\u001b[0m\u001b[1;33m.\u001b[0m\u001b[0msqrt\u001b[0m\u001b[1;33m(\u001b[0m\u001b[0ma\u001b[0m\u001b[1;33m)\u001b[0m\u001b[1;33m\u001b[0m\u001b[1;33m\u001b[0m\u001b[0m\n\u001b[0m",
      "\u001b[1;31mTypeError\u001b[0m: only size-1 arrays can be converted to Python scalars"
     ]
    }
   ],
   "source": [
    "math.sqrt(a)"
   ]
  },
  {
   "cell_type": "code",
   "execution_count": 11,
   "id": "c9e145b2",
   "metadata": {},
   "outputs": [
    {
     "name": "stderr",
     "output_type": "stream",
     "text": [
      "<ipython-input-11-c2e2b10f3bad>:1: RuntimeWarning: invalid value encountered in sqrt\n",
      "  np.sqrt(a)\n"
     ]
    },
    {
     "data": {
      "text/plain": [
       "array([       nan,        nan,        nan,        nan,        nan,\n",
       "       0.        , 1.        , 1.41421356, 1.73205081, 2.        ])"
      ]
     },
     "execution_count": 11,
     "metadata": {},
     "output_type": "execute_result"
    }
   ],
   "source": [
    "np.sqrt(a)"
   ]
  },
  {
   "cell_type": "code",
   "execution_count": 19,
   "id": "2395ab8f",
   "metadata": {},
   "outputs": [
    {
     "name": "stdout",
     "output_type": "stream",
     "text": [
      "1\n",
      "-1\n"
     ]
    }
   ],
   "source": [
    "# int 向0取整（去掉小数点后的数）\n",
    "print(int(1.6))\n",
    "print(int(-1.6))"
   ]
  },
  {
   "cell_type": "code",
   "execution_count": 18,
   "id": "2b8aaec8",
   "metadata": {},
   "outputs": [
    {
     "name": "stdout",
     "output_type": "stream",
     "text": [
      "2\n",
      "-2\n"
     ]
    }
   ],
   "source": [
    "# round 向外取整（四舍五入）\n",
    "print(round(1.6))\n",
    "print(round(-1.6))"
   ]
  },
  {
   "cell_type": "code",
   "execution_count": 16,
   "id": "ae68ad91",
   "metadata": {},
   "outputs": [
    {
     "name": "stdout",
     "output_type": "stream",
     "text": [
      "2\n",
      "-1\n"
     ]
    }
   ],
   "source": [
    "# math.ceil 向上取整\n",
    "print(math.ceil(1.6))\n",
    "print(math.ceil(-1.6))"
   ]
  },
  {
   "cell_type": "code",
   "execution_count": 17,
   "id": "e77b564e",
   "metadata": {},
   "outputs": [
    {
     "name": "stdout",
     "output_type": "stream",
     "text": [
      "1\n",
      "-2\n"
     ]
    }
   ],
   "source": [
    "# math.floor 向下取整\n",
    "print(math.floor(1.6))\n",
    "print(math.floor(-1.6))"
   ]
  },
  {
   "cell_type": "code",
   "execution_count": 20,
   "id": "17be4aa2",
   "metadata": {},
   "outputs": [
    {
     "data": {
      "text/plain": [
       "array([-5.5, -4.5, -3.5, -2.5, -1.5, -0.5,  0.5,  1.5,  2.5,  3.5,  4.5])"
      ]
     },
     "execution_count": 20,
     "metadata": {},
     "output_type": "execute_result"
    }
   ],
   "source": [
    "a = np.arange(-5.5, 5.5)\n",
    "a"
   ]
  },
  {
   "cell_type": "code",
   "execution_count": 21,
   "id": "c1f8ac92",
   "metadata": {},
   "outputs": [
    {
     "data": {
      "text/plain": [
       "array([-5., -4., -3., -2., -1., -0.,  1.,  2.,  3.,  4.,  5.])"
      ]
     },
     "execution_count": 21,
     "metadata": {},
     "output_type": "execute_result"
    }
   ],
   "source": [
    "np.ceil(a)"
   ]
  },
  {
   "cell_type": "code",
   "execution_count": 22,
   "id": "310c11c9",
   "metadata": {},
   "outputs": [
    {
     "data": {
      "text/plain": [
       "array([-6., -5., -4., -3., -2., -1.,  0.,  1.,  2.,  3.,  4.])"
      ]
     },
     "execution_count": 22,
     "metadata": {},
     "output_type": "execute_result"
    }
   ],
   "source": [
    "np.floor(a)"
   ]
  },
  {
   "cell_type": "code",
   "execution_count": 23,
   "id": "a1957aae",
   "metadata": {},
   "outputs": [
    {
     "data": {
      "text/plain": [
       "array([-6., -4., -4., -2., -2., -0.,  0.,  2.,  2.,  4.,  4.])"
      ]
     },
     "execution_count": 23,
     "metadata": {},
     "output_type": "execute_result"
    }
   ],
   "source": [
    "np.round(a)"
   ]
  },
  {
   "cell_type": "code",
   "execution_count": 25,
   "id": "75ff06b9",
   "metadata": {},
   "outputs": [
    {
     "data": {
      "text/plain": [
       "array([-5., -4., -3., -2., -1., -0.,  0.,  1.,  2.,  3.,  4.])"
      ]
     },
     "execution_count": 25,
     "metadata": {},
     "output_type": "execute_result"
    }
   ],
   "source": [
    "np.trunc(a) # 类似int()"
   ]
  },
  {
   "cell_type": "code",
   "execution_count": 26,
   "id": "928da77b",
   "metadata": {},
   "outputs": [
    {
     "data": {
      "text/plain": [
       "array([-6., -4., -4., -2., -2., -0.,  0.,  2.,  2.,  4.,  4.])"
      ]
     },
     "execution_count": 26,
     "metadata": {},
     "output_type": "execute_result"
    }
   ],
   "source": [
    "np.rint(a) # 和round()一样"
   ]
  },
  {
   "cell_type": "code",
   "execution_count": 27,
   "id": "fa1e6ea9",
   "metadata": {},
   "outputs": [
    {
     "data": {
      "text/plain": [
       "(array([-0.5, -0.5, -0.5, -0.5, -0.5, -0.5,  0.5,  0.5,  0.5,  0.5,  0.5]),\n",
       " array([-5., -4., -3., -2., -1., -0.,  0.,  1.,  2.,  3.,  4.]))"
      ]
     },
     "execution_count": 27,
     "metadata": {},
     "output_type": "execute_result"
    }
   ],
   "source": [
    "np.modf(a) # 返回两个数组：小数部分和整数部分分开"
   ]
  },
  {
   "cell_type": "code",
   "execution_count": 33,
   "id": "79959b01",
   "metadata": {},
   "outputs": [
    {
     "name": "stdout",
     "output_type": "stream",
     "text": [
      "[-0.5 -0.5 -0.5 -0.5 -0.5 -0.5  0.5  0.5  0.5  0.5  0.5]\n",
      "-----\n",
      "[-5. -4. -3. -2. -1. -0.  0.  1.  2.  3.  4.]\n"
     ]
    }
   ],
   "source": [
    "x, y = np.modf(a)\n",
    "print(x)\n",
    "print('-----')\n",
    "print(y)"
   ]
  },
  {
   "cell_type": "code",
   "execution_count": 34,
   "id": "e64bf4a4",
   "metadata": {},
   "outputs": [
    {
     "data": {
      "text/plain": [
       "array([0, 1, 2, 3, 4])"
      ]
     },
     "execution_count": 34,
     "metadata": {},
     "output_type": "execute_result"
    }
   ],
   "source": [
    "a = np.arange(0, 5)\n",
    "a"
   ]
  },
  {
   "cell_type": "code",
   "execution_count": 35,
   "id": "d7444f19",
   "metadata": {},
   "outputs": [
    {
     "name": "stderr",
     "output_type": "stream",
     "text": [
      "<ipython-input-35-a19b66976b24>:1: RuntimeWarning: divide by zero encountered in true_divide\n",
      "  5/a\n"
     ]
    },
    {
     "data": {
      "text/plain": [
       "array([       inf, 5.        , 2.5       , 1.66666667, 1.25      ])"
      ]
     },
     "execution_count": 35,
     "metadata": {},
     "output_type": "execute_result"
    }
   ],
   "source": [
    "5/a"
   ]
  },
  {
   "cell_type": "code",
   "execution_count": 36,
   "id": "ee75bb69",
   "metadata": {},
   "outputs": [
    {
     "name": "stderr",
     "output_type": "stream",
     "text": [
      "<ipython-input-36-fbb2892c553c>:1: RuntimeWarning: invalid value encountered in sqrt\n",
      "  a = np.sqrt(np.arange(-5,5))\n"
     ]
    },
    {
     "data": {
      "text/plain": [
       "array([       nan,        nan,        nan,        nan,        nan,\n",
       "       0.        , 1.        , 1.41421356, 1.73205081, 2.        ])"
      ]
     },
     "execution_count": 36,
     "metadata": {},
     "output_type": "execute_result"
    }
   ],
   "source": [
    "a = np.sqrt(np.arange(-5,5))\n",
    "a"
   ]
  },
  {
   "cell_type": "code",
   "execution_count": null,
   "id": "84b503fe",
   "metadata": {},
   "outputs": [],
   "source": []
  }
 ],
 "metadata": {
  "kernelspec": {
   "display_name": "Python 3",
   "language": "python",
   "name": "python3"
  },
  "language_info": {
   "codemirror_mode": {
    "name": "ipython",
    "version": 3
   },
   "file_extension": ".py",
   "mimetype": "text/x-python",
   "name": "python",
   "nbconvert_exporter": "python",
   "pygments_lexer": "ipython3",
   "version": "3.8.8"
  }
 },
 "nbformat": 4,
 "nbformat_minor": 5
}
