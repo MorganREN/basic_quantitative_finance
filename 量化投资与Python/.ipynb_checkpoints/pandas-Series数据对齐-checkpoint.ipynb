{
 "cells": [
  {
   "cell_type": "code",
   "execution_count": 1,
   "id": "6fcc2f36",
   "metadata": {},
   "outputs": [],
   "source": [
    "import pandas as pd\n",
    "import numpy as np"
   ]
  },
  {
   "cell_type": "code",
   "execution_count": 2,
   "id": "2e541579",
   "metadata": {},
   "outputs": [],
   "source": [
    "sr1 = pd.Series([12,23,34], index=['c','a','d'])\n",
    "sr2 = pd.Series([11,20,10], index=['d','c','a'])"
   ]
  },
  {
   "cell_type": "code",
   "execution_count": 3,
   "id": "ab685700",
   "metadata": {},
   "outputs": [
    {
     "data": {
      "text/plain": [
       "a    33\n",
       "c    32\n",
       "d    45\n",
       "dtype: int64"
      ]
     },
     "execution_count": 3,
     "metadata": {},
     "output_type": "execute_result"
    }
   ],
   "source": [
    "sr1+sr2"
   ]
  },
  {
   "cell_type": "code",
   "execution_count": 4,
   "id": "029f7c8d",
   "metadata": {},
   "outputs": [],
   "source": [
    "sr1 = pd.Series([12,23,34], index=['c','a','d'])\n",
    "sr2 = pd.Series([11,20,10,21], index=['d','c','a','b'])"
   ]
  },
  {
   "cell_type": "code",
   "execution_count": 5,
   "id": "6cb7c48f",
   "metadata": {},
   "outputs": [
    {
     "data": {
      "text/plain": [
       "a    33.0\n",
       "b     NaN\n",
       "c    32.0\n",
       "d    45.0\n",
       "dtype: float64"
      ]
     },
     "execution_count": 5,
     "metadata": {},
     "output_type": "execute_result"
    }
   ],
   "source": [
    "sr1+sr2"
   ]
  },
  {
   "cell_type": "code",
   "execution_count": 6,
   "id": "66ed8b7f",
   "metadata": {},
   "outputs": [],
   "source": [
    "sr1 = pd.Series([12,23,34], index=['c','a','d'])\n",
    "sr2 = pd.Series([11,20,10], index=['b','c','a'])"
   ]
  },
  {
   "cell_type": "code",
   "execution_count": 7,
   "id": "aef54158",
   "metadata": {},
   "outputs": [
    {
     "data": {
      "text/plain": [
       "a    33.0\n",
       "b     NaN\n",
       "c    32.0\n",
       "d     NaN\n",
       "dtype: float64"
      ]
     },
     "execution_count": 7,
     "metadata": {},
     "output_type": "execute_result"
    }
   ],
   "source": [
    "sr1+sr2"
   ]
  },
  {
   "cell_type": "code",
   "execution_count": 8,
   "id": "eb745aee",
   "metadata": {
    "scrolled": true
   },
   "outputs": [
    {
     "data": {
      "text/plain": [
       "a    33.0\n",
       "b    11.0\n",
       "c    32.0\n",
       "d    34.0\n",
       "dtype: float64"
      ]
     },
     "execution_count": 8,
     "metadata": {},
     "output_type": "execute_result"
    }
   ],
   "source": [
    "sr1.add(sr2, fill_value=0)"
   ]
  },
  {
   "cell_type": "markdown",
   "id": "478169ef",
   "metadata": {},
   "source": [
    "# 缺失值处理"
   ]
  },
  {
   "cell_type": "code",
   "execution_count": 9,
   "id": "61c4f425",
   "metadata": {},
   "outputs": [
    {
     "data": {
      "text/plain": [
       "a    33.0\n",
       "b     NaN\n",
       "c    32.0\n",
       "d     NaN\n",
       "dtype: float64"
      ]
     },
     "execution_count": 9,
     "metadata": {},
     "output_type": "execute_result"
    }
   ],
   "source": [
    "sr = sr1 + sr2\n",
    "sr"
   ]
  },
  {
   "cell_type": "code",
   "execution_count": 10,
   "id": "93d1ff6b",
   "metadata": {},
   "outputs": [
    {
     "data": {
      "text/plain": [
       "a    False\n",
       "b     True\n",
       "c    False\n",
       "d     True\n",
       "dtype: bool"
      ]
     },
     "execution_count": 10,
     "metadata": {},
     "output_type": "execute_result"
    }
   ],
   "source": [
    "sr.isnull()"
   ]
  },
  {
   "cell_type": "code",
   "execution_count": 11,
   "id": "2c8c05b5",
   "metadata": {},
   "outputs": [
    {
     "data": {
      "text/plain": [
       "a     True\n",
       "b    False\n",
       "c     True\n",
       "d    False\n",
       "dtype: bool"
      ]
     },
     "execution_count": 11,
     "metadata": {},
     "output_type": "execute_result"
    }
   ],
   "source": [
    "sr.notnull()"
   ]
  },
  {
   "cell_type": "markdown",
   "id": "8b4af5b8",
   "metadata": {},
   "source": [
    "### 去掉NaN值"
   ]
  },
  {
   "cell_type": "code",
   "execution_count": 12,
   "id": "c56ae655",
   "metadata": {},
   "outputs": [
    {
     "data": {
      "text/plain": [
       "a    33.0\n",
       "c    32.0\n",
       "dtype: float64"
      ]
     },
     "execution_count": 12,
     "metadata": {},
     "output_type": "execute_result"
    }
   ],
   "source": [
    "sr[sr.notnull()] "
   ]
  },
  {
   "cell_type": "code",
   "execution_count": 14,
   "id": "6c8c2715",
   "metadata": {},
   "outputs": [
    {
     "data": {
      "text/plain": [
       "a    33.0\n",
       "c    32.0\n",
       "dtype: float64"
      ]
     },
     "execution_count": 14,
     "metadata": {},
     "output_type": "execute_result"
    }
   ],
   "source": [
    "sr.dropna()"
   ]
  },
  {
   "cell_type": "markdown",
   "id": "625ac25e",
   "metadata": {},
   "source": [
    "### 给NaN赋值"
   ]
  },
  {
   "cell_type": "code",
   "execution_count": 15,
   "id": "d4fe843c",
   "metadata": {},
   "outputs": [
    {
     "data": {
      "text/plain": [
       "a    33.0\n",
       "b     0.0\n",
       "c    32.0\n",
       "d     0.0\n",
       "dtype: float64"
      ]
     },
     "execution_count": 15,
     "metadata": {},
     "output_type": "execute_result"
    }
   ],
   "source": [
    "sr.fillna(0) # 用0代替"
   ]
  },
  {
   "cell_type": "code",
   "execution_count": 16,
   "id": "15cf06a4",
   "metadata": {},
   "outputs": [
    {
     "data": {
      "text/plain": [
       "a    33.0\n",
       "b    32.5\n",
       "c    32.0\n",
       "d    32.5\n",
       "dtype: float64"
      ]
     },
     "execution_count": 16,
     "metadata": {},
     "output_type": "execute_result"
    }
   ],
   "source": [
    "sr.fillna(sr.mean()) # 用平均值代替"
   ]
  },
  {
   "cell_type": "code",
   "execution_count": null,
   "id": "ce39252f",
   "metadata": {},
   "outputs": [],
   "source": []
  }
 ],
 "metadata": {
  "kernelspec": {
   "display_name": "Python 3",
   "language": "python",
   "name": "python3"
  },
  "language_info": {
   "codemirror_mode": {
    "name": "ipython",
    "version": 3
   },
   "file_extension": ".py",
   "mimetype": "text/x-python",
   "name": "python",
   "nbconvert_exporter": "python",
   "pygments_lexer": "ipython3",
   "version": "3.8.8"
  }
 },
 "nbformat": 4,
 "nbformat_minor": 5
}
