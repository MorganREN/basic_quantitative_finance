{
 "cells": [
  {
   "cell_type": "code",
   "execution_count": 5,
   "id": "d047ed6f",
   "metadata": {},
   "outputs": [],
   "source": [
    "import mpl_finance as fin # matplotlib库已更新，需要导入mplfinance库\n",
    "import matplotlib.pyplot as plt\n",
    "from matplotlib.dates import date2num "
   ]
  },
  {
   "cell_type": "code",
   "execution_count": 2,
   "id": "26fb39db",
   "metadata": {},
   "outputs": [
    {
     "ename": "AttributeError",
     "evalue": "module 'mplfinance' has no attribute 'candlestick_ochl'",
     "output_type": "error",
     "traceback": [
      "\u001b[1;31m---------------------------------------------------------------------------\u001b[0m",
      "\u001b[1;31mAttributeError\u001b[0m                            Traceback (most recent call last)",
      "\u001b[1;32m<ipython-input-2-1f95b75d9b85>\u001b[0m in \u001b[0;36m<module>\u001b[1;34m\u001b[0m\n\u001b[1;32m----> 1\u001b[1;33m \u001b[0mfin\u001b[0m\u001b[1;33m.\u001b[0m\u001b[0mcandlestick_ochl\u001b[0m\u001b[1;33m(\u001b[0m\u001b[1;33m)\u001b[0m\u001b[1;33m\u001b[0m\u001b[1;33m\u001b[0m\u001b[0m\n\u001b[0m",
      "\u001b[1;31mAttributeError\u001b[0m: module 'mplfinance' has no attribute 'candlestick_ochl'"
     ]
    }
   ],
   "source": [
    "fin.candlestick2_ochl"
   ]
  },
  {
   "cell_type": "code",
   "execution_count": null,
   "id": "5c7c3529",
   "metadata": {},
   "outputs": [],
   "source": []
  }
 ],
 "metadata": {
  "kernelspec": {
   "display_name": "Python 3",
   "language": "python",
   "name": "python3"
  },
  "language_info": {
   "codemirror_mode": {
    "name": "ipython",
    "version": 3
   },
   "file_extension": ".py",
   "mimetype": "text/x-python",
   "name": "python",
   "nbconvert_exporter": "python",
   "pygments_lexer": "ipython3",
   "version": "3.8.8"
  }
 },
 "nbformat": 4,
 "nbformat_minor": 5
}
