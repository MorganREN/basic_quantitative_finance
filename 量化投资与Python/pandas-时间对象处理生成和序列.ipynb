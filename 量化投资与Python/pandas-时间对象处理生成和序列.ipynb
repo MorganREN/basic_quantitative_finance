{
 "cells": [
  {
   "cell_type": "code",
   "execution_count": 20,
   "id": "4924fe04",
   "metadata": {},
   "outputs": [],
   "source": [
    "import pandas as pd\n",
    "import datetime\n",
    "import numpy as np"
   ]
  },
  {
   "cell_type": "markdown",
   "id": "99e8cf1c",
   "metadata": {},
   "source": [
    "## 时间对象处理"
   ]
  },
  {
   "cell_type": "code",
   "execution_count": 2,
   "id": "ef17be8b",
   "metadata": {},
   "outputs": [
    {
     "data": {
      "text/plain": [
       "datetime.datetime(2010, 1, 1, 0, 0)"
      ]
     },
     "execution_count": 2,
     "metadata": {},
     "output_type": "execute_result"
    }
   ],
   "source": [
    "datetime.datetime.strptime('2010-01-01', '%Y-%m-%d')"
   ]
  },
  {
   "cell_type": "code",
   "execution_count": 3,
   "id": "afb3ac5b",
   "metadata": {},
   "outputs": [
    {
     "ename": "ValueError",
     "evalue": "time data '2010/01/01' does not match format '%Y-%m-%d'",
     "output_type": "error",
     "traceback": [
      "\u001b[1;31m---------------------------------------------------------------------------\u001b[0m",
      "\u001b[1;31mValueError\u001b[0m                                Traceback (most recent call last)",
      "\u001b[1;32m<ipython-input-3-25b23755ec17>\u001b[0m in \u001b[0;36m<module>\u001b[1;34m\u001b[0m\n\u001b[1;32m----> 1\u001b[1;33m \u001b[0mdatetime\u001b[0m\u001b[1;33m.\u001b[0m\u001b[0mdatetime\u001b[0m\u001b[1;33m.\u001b[0m\u001b[0mstrptime\u001b[0m\u001b[1;33m(\u001b[0m\u001b[1;34m'2010/01/01'\u001b[0m\u001b[1;33m,\u001b[0m \u001b[1;34m'%Y-%m-%d'\u001b[0m\u001b[1;33m)\u001b[0m\u001b[1;33m\u001b[0m\u001b[1;33m\u001b[0m\u001b[0m\n\u001b[0m",
      "\u001b[1;32mD:\\Anaconda\\lib\\_strptime.py\u001b[0m in \u001b[0;36m_strptime_datetime\u001b[1;34m(cls, data_string, format)\u001b[0m\n\u001b[0;32m    566\u001b[0m     \"\"\"Return a class cls instance based on the input string and the\n\u001b[0;32m    567\u001b[0m     format string.\"\"\"\n\u001b[1;32m--> 568\u001b[1;33m     \u001b[0mtt\u001b[0m\u001b[1;33m,\u001b[0m \u001b[0mfraction\u001b[0m\u001b[1;33m,\u001b[0m \u001b[0mgmtoff_fraction\u001b[0m \u001b[1;33m=\u001b[0m \u001b[0m_strptime\u001b[0m\u001b[1;33m(\u001b[0m\u001b[0mdata_string\u001b[0m\u001b[1;33m,\u001b[0m \u001b[0mformat\u001b[0m\u001b[1;33m)\u001b[0m\u001b[1;33m\u001b[0m\u001b[1;33m\u001b[0m\u001b[0m\n\u001b[0m\u001b[0;32m    569\u001b[0m     \u001b[0mtzname\u001b[0m\u001b[1;33m,\u001b[0m \u001b[0mgmtoff\u001b[0m \u001b[1;33m=\u001b[0m \u001b[0mtt\u001b[0m\u001b[1;33m[\u001b[0m\u001b[1;33m-\u001b[0m\u001b[1;36m2\u001b[0m\u001b[1;33m:\u001b[0m\u001b[1;33m]\u001b[0m\u001b[1;33m\u001b[0m\u001b[1;33m\u001b[0m\u001b[0m\n\u001b[0;32m    570\u001b[0m     \u001b[0margs\u001b[0m \u001b[1;33m=\u001b[0m \u001b[0mtt\u001b[0m\u001b[1;33m[\u001b[0m\u001b[1;33m:\u001b[0m\u001b[1;36m6\u001b[0m\u001b[1;33m]\u001b[0m \u001b[1;33m+\u001b[0m \u001b[1;33m(\u001b[0m\u001b[0mfraction\u001b[0m\u001b[1;33m,\u001b[0m\u001b[1;33m)\u001b[0m\u001b[1;33m\u001b[0m\u001b[1;33m\u001b[0m\u001b[0m\n",
      "\u001b[1;32mD:\\Anaconda\\lib\\_strptime.py\u001b[0m in \u001b[0;36m_strptime\u001b[1;34m(data_string, format)\u001b[0m\n\u001b[0;32m    347\u001b[0m     \u001b[0mfound\u001b[0m \u001b[1;33m=\u001b[0m \u001b[0mformat_regex\u001b[0m\u001b[1;33m.\u001b[0m\u001b[0mmatch\u001b[0m\u001b[1;33m(\u001b[0m\u001b[0mdata_string\u001b[0m\u001b[1;33m)\u001b[0m\u001b[1;33m\u001b[0m\u001b[1;33m\u001b[0m\u001b[0m\n\u001b[0;32m    348\u001b[0m     \u001b[1;32mif\u001b[0m \u001b[1;32mnot\u001b[0m \u001b[0mfound\u001b[0m\u001b[1;33m:\u001b[0m\u001b[1;33m\u001b[0m\u001b[1;33m\u001b[0m\u001b[0m\n\u001b[1;32m--> 349\u001b[1;33m         raise ValueError(\"time data %r does not match format %r\" %\n\u001b[0m\u001b[0;32m    350\u001b[0m                          (data_string, format))\n\u001b[0;32m    351\u001b[0m     \u001b[1;32mif\u001b[0m \u001b[0mlen\u001b[0m\u001b[1;33m(\u001b[0m\u001b[0mdata_string\u001b[0m\u001b[1;33m)\u001b[0m \u001b[1;33m!=\u001b[0m \u001b[0mfound\u001b[0m\u001b[1;33m.\u001b[0m\u001b[0mend\u001b[0m\u001b[1;33m(\u001b[0m\u001b[1;33m)\u001b[0m\u001b[1;33m:\u001b[0m\u001b[1;33m\u001b[0m\u001b[1;33m\u001b[0m\u001b[0m\n",
      "\u001b[1;31mValueError\u001b[0m: time data '2010/01/01' does not match format '%Y-%m-%d'"
     ]
    }
   ],
   "source": [
    "datetime.datetime.strptime('2010/01/01', '%Y-%m-%d')"
   ]
  },
  {
   "cell_type": "code",
   "execution_count": 4,
   "id": "351ed665",
   "metadata": {},
   "outputs": [],
   "source": [
    "import dateutil # 可以自动解析日期"
   ]
  },
  {
   "cell_type": "code",
   "execution_count": 5,
   "id": "139953f8",
   "metadata": {},
   "outputs": [
    {
     "data": {
      "text/plain": [
       "datetime.datetime(2020, 1, 2, 0, 0)"
      ]
     },
     "execution_count": 5,
     "metadata": {},
     "output_type": "execute_result"
    }
   ],
   "source": [
    "dateutil.parser.parse('2020-01-02')"
   ]
  },
  {
   "cell_type": "code",
   "execution_count": 6,
   "id": "1636dea4",
   "metadata": {},
   "outputs": [
    {
     "data": {
      "text/plain": [
       "datetime.datetime(2020, 1, 2, 0, 0)"
      ]
     },
     "execution_count": 6,
     "metadata": {},
     "output_type": "execute_result"
    }
   ],
   "source": [
    "dateutil.parser.parse('2020/01/02')"
   ]
  },
  {
   "cell_type": "code",
   "execution_count": 8,
   "id": "a59bcbaa",
   "metadata": {},
   "outputs": [
    {
     "data": {
      "text/plain": [
       "datetime.datetime(2020, 1, 2, 0, 0)"
      ]
     },
     "execution_count": 8,
     "metadata": {},
     "output_type": "execute_result"
    }
   ],
   "source": [
    "dateutil.parser.parse('01-02-2020')"
   ]
  },
  {
   "cell_type": "markdown",
   "id": "66ce4e31",
   "metadata": {},
   "source": [
    "### 利用pandas"
   ]
  },
  {
   "cell_type": "code",
   "execution_count": 9,
   "id": "c7231d0b",
   "metadata": {},
   "outputs": [
    {
     "data": {
      "text/plain": [
       "DatetimeIndex(['2001-01-02', '2012-02-03'], dtype='datetime64[ns]', freq=None)"
      ]
     },
     "execution_count": 9,
     "metadata": {},
     "output_type": "execute_result"
    }
   ],
   "source": [
    "pd.to_datetime(['2001-01-02', '2012-Feb-03'])"
   ]
  },
  {
   "cell_type": "markdown",
   "id": "3842cd41",
   "metadata": {},
   "source": [
    "## 时间对象生成"
   ]
  },
  {
   "cell_type": "code",
   "execution_count": 10,
   "id": "d16504a2",
   "metadata": {},
   "outputs": [
    {
     "data": {
      "text/plain": [
       "DatetimeIndex(['2010-01-01', '2010-01-02', '2010-01-03', '2010-01-04',\n",
       "               '2010-01-05', '2010-01-06', '2010-01-07', '2010-01-08',\n",
       "               '2010-01-09', '2010-01-10',\n",
       "               ...\n",
       "               '2010-04-22', '2010-04-23', '2010-04-24', '2010-04-25',\n",
       "               '2010-04-26', '2010-04-27', '2010-04-28', '2010-04-29',\n",
       "               '2010-04-30', '2010-05-01'],\n",
       "              dtype='datetime64[ns]', length=121, freq='D')"
      ]
     },
     "execution_count": 10,
     "metadata": {},
     "output_type": "execute_result"
    }
   ],
   "source": [
    "pd.date_range('2010-01-01', '2010-05-01') # 起始日期"
   ]
  },
  {
   "cell_type": "code",
   "execution_count": 12,
   "id": "75c27729",
   "metadata": {},
   "outputs": [
    {
     "data": {
      "text/plain": [
       "DatetimeIndex(['2010-01-01', '2010-01-02', '2010-01-03', '2010-01-04',\n",
       "               '2010-01-05', '2010-01-06', '2010-01-07', '2010-01-08',\n",
       "               '2010-01-09', '2010-01-10', '2010-01-11', '2010-01-12',\n",
       "               '2010-01-13', '2010-01-14', '2010-01-15', '2010-01-16',\n",
       "               '2010-01-17', '2010-01-18', '2010-01-19', '2010-01-20',\n",
       "               '2010-01-21', '2010-01-22', '2010-01-23', '2010-01-24',\n",
       "               '2010-01-25', '2010-01-26', '2010-01-27', '2010-01-28',\n",
       "               '2010-01-29', '2010-01-30', '2010-01-31', '2010-02-01',\n",
       "               '2010-02-02', '2010-02-03', '2010-02-04', '2010-02-05',\n",
       "               '2010-02-06', '2010-02-07', '2010-02-08', '2010-02-09',\n",
       "               '2010-02-10', '2010-02-11', '2010-02-12', '2010-02-13',\n",
       "               '2010-02-14', '2010-02-15', '2010-02-16', '2010-02-17',\n",
       "               '2010-02-18', '2010-02-19', '2010-02-20', '2010-02-21',\n",
       "               '2010-02-22', '2010-02-23', '2010-02-24', '2010-02-25',\n",
       "               '2010-02-26', '2010-02-27', '2010-02-28', '2010-03-01'],\n",
       "              dtype='datetime64[ns]', freq='D')"
      ]
     },
     "execution_count": 12,
     "metadata": {},
     "output_type": "execute_result"
    }
   ],
   "source": [
    "pd.date_range('2010-01-01', periods=60) # 开始日期与长度"
   ]
  },
  {
   "cell_type": "code",
   "execution_count": 14,
   "id": "c57601e8",
   "metadata": {},
   "outputs": [
    {
     "data": {
      "text/plain": [
       "DatetimeIndex(['2010-01-01 00:00:00', '2010-01-01 01:00:00',\n",
       "               '2010-01-01 02:00:00', '2010-01-01 03:00:00',\n",
       "               '2010-01-01 04:00:00', '2010-01-01 05:00:00',\n",
       "               '2010-01-01 06:00:00', '2010-01-01 07:00:00',\n",
       "               '2010-01-01 08:00:00', '2010-01-01 09:00:00',\n",
       "               '2010-01-01 10:00:00', '2010-01-01 11:00:00',\n",
       "               '2010-01-01 12:00:00', '2010-01-01 13:00:00',\n",
       "               '2010-01-01 14:00:00', '2010-01-01 15:00:00',\n",
       "               '2010-01-01 16:00:00', '2010-01-01 17:00:00',\n",
       "               '2010-01-01 18:00:00', '2010-01-01 19:00:00',\n",
       "               '2010-01-01 20:00:00', '2010-01-01 21:00:00',\n",
       "               '2010-01-01 22:00:00', '2010-01-01 23:00:00',\n",
       "               '2010-01-02 00:00:00', '2010-01-02 01:00:00',\n",
       "               '2010-01-02 02:00:00', '2010-01-02 03:00:00',\n",
       "               '2010-01-02 04:00:00', '2010-01-02 05:00:00',\n",
       "               '2010-01-02 06:00:00', '2010-01-02 07:00:00',\n",
       "               '2010-01-02 08:00:00', '2010-01-02 09:00:00',\n",
       "               '2010-01-02 10:00:00', '2010-01-02 11:00:00',\n",
       "               '2010-01-02 12:00:00', '2010-01-02 13:00:00',\n",
       "               '2010-01-02 14:00:00', '2010-01-02 15:00:00',\n",
       "               '2010-01-02 16:00:00', '2010-01-02 17:00:00',\n",
       "               '2010-01-02 18:00:00', '2010-01-02 19:00:00',\n",
       "               '2010-01-02 20:00:00', '2010-01-02 21:00:00',\n",
       "               '2010-01-02 22:00:00', '2010-01-02 23:00:00',\n",
       "               '2010-01-03 00:00:00', '2010-01-03 01:00:00',\n",
       "               '2010-01-03 02:00:00', '2010-01-03 03:00:00',\n",
       "               '2010-01-03 04:00:00', '2010-01-03 05:00:00',\n",
       "               '2010-01-03 06:00:00', '2010-01-03 07:00:00',\n",
       "               '2010-01-03 08:00:00', '2010-01-03 09:00:00',\n",
       "               '2010-01-03 10:00:00', '2010-01-03 11:00:00'],\n",
       "              dtype='datetime64[ns]', freq='H')"
      ]
     },
     "execution_count": 14,
     "metadata": {},
     "output_type": "execute_result"
    }
   ],
   "source": [
    "pd.date_range('2010-01-01', periods=60, freq='H') #频率：每小时"
   ]
  },
  {
   "cell_type": "code",
   "execution_count": 15,
   "id": "fc1b7e80",
   "metadata": {},
   "outputs": [
    {
     "data": {
      "text/plain": [
       "DatetimeIndex(['2010-01-01', '2010-01-04', '2010-01-05', '2010-01-06',\n",
       "               '2010-01-07', '2010-01-08', '2010-01-11', '2010-01-12',\n",
       "               '2010-01-13', '2010-01-14', '2010-01-15', '2010-01-18',\n",
       "               '2010-01-19', '2010-01-20', '2010-01-21', '2010-01-22',\n",
       "               '2010-01-25', '2010-01-26', '2010-01-27', '2010-01-28',\n",
       "               '2010-01-29', '2010-02-01', '2010-02-02', '2010-02-03',\n",
       "               '2010-02-04', '2010-02-05', '2010-02-08', '2010-02-09',\n",
       "               '2010-02-10', '2010-02-11', '2010-02-12', '2010-02-15',\n",
       "               '2010-02-16', '2010-02-17', '2010-02-18', '2010-02-19',\n",
       "               '2010-02-22', '2010-02-23', '2010-02-24', '2010-02-25',\n",
       "               '2010-02-26', '2010-03-01', '2010-03-02', '2010-03-03',\n",
       "               '2010-03-04', '2010-03-05', '2010-03-08', '2010-03-09',\n",
       "               '2010-03-10', '2010-03-11', '2010-03-12', '2010-03-15',\n",
       "               '2010-03-16', '2010-03-17', '2010-03-18', '2010-03-19',\n",
       "               '2010-03-22', '2010-03-23', '2010-03-24', '2010-03-25'],\n",
       "              dtype='datetime64[ns]', freq='B')"
      ]
     },
     "execution_count": 15,
     "metadata": {},
     "output_type": "execute_result"
    }
   ],
   "source": [
    "pd.date_range('2010-01-01', periods=60, freq='B') #频率：工作日"
   ]
  },
  {
   "cell_type": "code",
   "execution_count": 16,
   "id": "214e8b6f",
   "metadata": {},
   "outputs": [
    {
     "data": {
      "text/plain": [
       "Timestamp('2010-01-01 00:00:00', freq='B')"
      ]
     },
     "execution_count": 16,
     "metadata": {},
     "output_type": "execute_result"
    }
   ],
   "source": [
    "dt = _\n",
    "dt[0]"
   ]
  },
  {
   "cell_type": "code",
   "execution_count": 17,
   "id": "d79ca0e0",
   "metadata": {},
   "outputs": [
    {
     "data": {
      "text/plain": [
       "datetime.datetime(2010, 1, 1, 0, 0)"
      ]
     },
     "execution_count": 17,
     "metadata": {},
     "output_type": "execute_result"
    }
   ],
   "source": [
    "dt[0].to_pydatetime()"
   ]
  },
  {
   "cell_type": "markdown",
   "id": "1b5e56e9",
   "metadata": {},
   "source": [
    "## 时间序列"
   ]
  },
  {
   "cell_type": "code",
   "execution_count": 18,
   "id": "c4ee0e1d",
   "metadata": {},
   "outputs": [
    {
     "data": {
      "text/plain": [
       "DatetimeIndex(['2020-01-01', '2020-01-02', '2020-01-03', '2020-01-04',\n",
       "               '2020-01-05', '2020-01-06', '2020-01-07', '2020-01-08',\n",
       "               '2020-01-09', '2020-01-10',\n",
       "               ...\n",
       "               '2020-05-23', '2020-05-24', '2020-05-25', '2020-05-26',\n",
       "               '2020-05-27', '2020-05-28', '2020-05-29', '2020-05-30',\n",
       "               '2020-05-31', '2020-06-01'],\n",
       "              dtype='datetime64[ns]', length=153, freq='D')"
      ]
     },
     "execution_count": 18,
     "metadata": {},
     "output_type": "execute_result"
    }
   ],
   "source": [
    "pd.date_range('2020-01-01', '2020-06-01')"
   ]
  },
  {
   "cell_type": "code",
   "execution_count": 21,
   "id": "22d41bea",
   "metadata": {},
   "outputs": [],
   "source": [
    "sr = pd.Series(np.arange(100), index=pd.date_range('2017-01-01', periods=100))"
   ]
  },
  {
   "cell_type": "code",
   "execution_count": 22,
   "id": "b98ac133",
   "metadata": {},
   "outputs": [
    {
     "data": {
      "text/plain": [
       "2017-01-01     0\n",
       "2017-01-02     1\n",
       "2017-01-03     2\n",
       "2017-01-04     3\n",
       "2017-01-05     4\n",
       "              ..\n",
       "2017-04-06    95\n",
       "2017-04-07    96\n",
       "2017-04-08    97\n",
       "2017-04-09    98\n",
       "2017-04-10    99\n",
       "Freq: D, Length: 100, dtype: int32"
      ]
     },
     "execution_count": 22,
     "metadata": {},
     "output_type": "execute_result"
    }
   ],
   "source": [
    "sr"
   ]
  },
  {
   "cell_type": "code",
   "execution_count": 24,
   "id": "ba144801",
   "metadata": {},
   "outputs": [
    {
     "data": {
      "text/plain": [
       "61"
      ]
     },
     "execution_count": 24,
     "metadata": {},
     "output_type": "execute_result"
    }
   ],
   "source": [
    "sr['2017-03-03']"
   ]
  },
  {
   "cell_type": "code",
   "execution_count": 25,
   "id": "007d3f0c",
   "metadata": {},
   "outputs": [
    {
     "data": {
      "text/plain": [
       "2017-04-01    90\n",
       "2017-04-02    91\n",
       "2017-04-03    92\n",
       "2017-04-04    93\n",
       "2017-04-05    94\n",
       "2017-04-06    95\n",
       "2017-04-07    96\n",
       "2017-04-08    97\n",
       "2017-04-09    98\n",
       "2017-04-10    99\n",
       "Freq: D, dtype: int32"
      ]
     },
     "execution_count": 25,
     "metadata": {},
     "output_type": "execute_result"
    }
   ],
   "source": [
    "sr['2017-04']"
   ]
  },
  {
   "cell_type": "code",
   "execution_count": 26,
   "id": "a99599a3",
   "metadata": {},
   "outputs": [
    {
     "data": {
      "text/plain": [
       "2017-01-01     0\n",
       "2017-01-02     1\n",
       "2017-01-03     2\n",
       "2017-01-04     3\n",
       "2017-01-05     4\n",
       "              ..\n",
       "2017-04-06    95\n",
       "2017-04-07    96\n",
       "2017-04-08    97\n",
       "2017-04-09    98\n",
       "2017-04-10    99\n",
       "Freq: D, Length: 100, dtype: int32"
      ]
     },
     "execution_count": 26,
     "metadata": {},
     "output_type": "execute_result"
    }
   ],
   "source": [
    "sr['2017']"
   ]
  },
  {
   "cell_type": "code",
   "execution_count": 27,
   "id": "a064ea88",
   "metadata": {},
   "outputs": [
    {
     "data": {
      "text/plain": [
       "2017-01-01      0\n",
       "2017-01-02      1\n",
       "2017-01-03      2\n",
       "2017-01-04      3\n",
       "2017-01-05      4\n",
       "             ... \n",
       "2017-12-27    360\n",
       "2017-12-28    361\n",
       "2017-12-29    362\n",
       "2017-12-30    363\n",
       "2017-12-31    364\n",
       "Freq: D, Length: 365, dtype: int32"
      ]
     },
     "execution_count": 27,
     "metadata": {},
     "output_type": "execute_result"
    }
   ],
   "source": [
    "sr = pd.Series(np.arange(1000), index=pd.date_range('2017-01-01', periods=1000))\n",
    "sr['2017']"
   ]
  },
  {
   "cell_type": "code",
   "execution_count": 29,
   "id": "84d6c813",
   "metadata": {},
   "outputs": [
    {
     "data": {
      "text/plain": [
       "2017-02-03     33\n",
       "2017-02-04     34\n",
       "2017-02-05     35\n",
       "2017-02-06     36\n",
       "2017-02-07     37\n",
       "             ... \n",
       "2018-03-27    450\n",
       "2018-03-28    451\n",
       "2018-03-29    452\n",
       "2018-03-30    453\n",
       "2018-03-31    454\n",
       "Freq: D, Length: 422, dtype: int32"
      ]
     },
     "execution_count": 29,
     "metadata": {},
     "output_type": "execute_result"
    }
   ],
   "source": [
    "sr['2017-02-03':'2018-03']"
   ]
  },
  {
   "cell_type": "code",
   "execution_count": 31,
   "id": "fc6ab740",
   "metadata": {},
   "outputs": [
    {
     "data": {
      "text/plain": [
       "2017-01-01       0\n",
       "2017-01-08      28\n",
       "2017-01-15      77\n",
       "2017-01-22     126\n",
       "2017-01-29     175\n",
       "              ... \n",
       "2019-09-01    6790\n",
       "2019-09-08    6839\n",
       "2019-09-15    6888\n",
       "2019-09-22    6937\n",
       "2019-09-29    4985\n",
       "Freq: W-SUN, Length: 144, dtype: int32"
      ]
     },
     "execution_count": 31,
     "metadata": {},
     "output_type": "execute_result"
    }
   ],
   "source": [
    "sr.resample('W').sum() # 求每周之和"
   ]
  },
  {
   "cell_type": "code",
   "execution_count": 32,
   "id": "b676ee98",
   "metadata": {},
   "outputs": [
    {
     "data": {
      "text/plain": [
       "2017-01-31     15.0\n",
       "2017-02-28     44.5\n",
       "2017-03-31     74.0\n",
       "2017-04-30    104.5\n",
       "2017-05-31    135.0\n",
       "2017-06-30    165.5\n",
       "2017-07-31    196.0\n",
       "2017-08-31    227.0\n",
       "2017-09-30    257.5\n",
       "2017-10-31    288.0\n",
       "2017-11-30    318.5\n",
       "2017-12-31    349.0\n",
       "2018-01-31    380.0\n",
       "2018-02-28    409.5\n",
       "2018-03-31    439.0\n",
       "2018-04-30    469.5\n",
       "2018-05-31    500.0\n",
       "2018-06-30    530.5\n",
       "2018-07-31    561.0\n",
       "2018-08-31    592.0\n",
       "2018-09-30    622.5\n",
       "2018-10-31    653.0\n",
       "2018-11-30    683.5\n",
       "2018-12-31    714.0\n",
       "2019-01-31    745.0\n",
       "2019-02-28    774.5\n",
       "2019-03-31    804.0\n",
       "2019-04-30    834.5\n",
       "2019-05-31    865.0\n",
       "2019-06-30    895.5\n",
       "2019-07-31    926.0\n",
       "2019-08-31    957.0\n",
       "2019-09-30    986.0\n",
       "Freq: M, dtype: float64"
      ]
     },
     "execution_count": 32,
     "metadata": {},
     "output_type": "execute_result"
    }
   ],
   "source": [
    "sr.resample('M').mean() # 求每月平均"
   ]
  },
  {
   "cell_type": "code",
   "execution_count": null,
   "id": "a8e1c049",
   "metadata": {},
   "outputs": [],
   "source": []
  }
 ],
 "metadata": {
  "kernelspec": {
   "display_name": "Python 3",
   "language": "python",
   "name": "python3"
  },
  "language_info": {
   "codemirror_mode": {
    "name": "ipython",
    "version": 3
   },
   "file_extension": ".py",
   "mimetype": "text/x-python",
   "name": "python",
   "nbconvert_exporter": "python",
   "pygments_lexer": "ipython3",
   "version": "3.8.8"
  }
 },
 "nbformat": 4,
 "nbformat_minor": 5
}
